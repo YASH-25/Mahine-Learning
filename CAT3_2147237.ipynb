{
  "nbformat": 4,
  "nbformat_minor": 0,
  "metadata": {
    "colab": {
      "provenance": [],
      "authorship_tag": "ABX9TyNo+4yT6oorHp92bq2LScln",
      "include_colab_link": true
    },
    "kernelspec": {
      "name": "python3",
      "display_name": "Python 3"
    },
    "language_info": {
      "name": "python"
    }
  },
  "cells": [
    {
      "cell_type": "markdown",
      "metadata": {
        "id": "view-in-github",
        "colab_type": "text"
      },
      "source": [
        "<a href=\"https://colab.research.google.com/github/YASH-25/Mahine-Learning/blob/main/CAT3_2147237.ipynb\" target=\"_parent\"><img src=\"https://colab.research.google.com/assets/colab-badge.svg\" alt=\"Open In Colab\"/></a>"
      ]
    },
    {
      "cell_type": "markdown",
      "source": [
        "## **Dataset Provided: Wines Dataset**"
      ],
      "metadata": {
        "id": "FxzkG_aDY-dd"
      }
    },
    {
      "cell_type": "markdown",
      "source": [
        "# Apply MLP and Logistic Regression for given dataset to perform classification for variable number of samples. The code should also include relevant plot/image to visualize the obtained results. Provide conceptual interpretation of the results. Also demonstrate if regression is suitable. Compare with atleast 5 different evaluation measures."
      ],
      "metadata": {
        "id": "JfinW2vdYw48"
      }
    },
    {
      "cell_type": "code",
      "execution_count": null,
      "metadata": {
        "id": "Dldw_ng7X1e0"
      },
      "outputs": [],
      "source": [
        "import numpy as np\n",
        "import pandas as pd \n",
        "import warnings\n",
        "warnings.filterwarnings(\"ignore\")\n",
        "from sklearn.model_selection import train_test_split\n",
        "import matplotlib.pyplot as plt\n",
        "from sklearn import model_selection\n",
        "from sklearn import linear_model\n",
        "from sklearn.metrics import confusion_matrix, classification_report\n",
        "from sklearn.metrics import plot_confusion_matrix"
      ]
    },
    {
      "cell_type": "markdown",
      "source": [
        "**Importing th dataset and reading it**"
      ],
      "metadata": {
        "id": "W8h1ftj3gNs6"
      }
    },
    {
      "cell_type": "code",
      "source": [
        "df = pd.read_csv(\"/content/wines.csv - wines.csv.csv\")\n",
        "for i in df.columns:\n",
        "  if i != \"Class\":\n",
        "    df[i] = df[i]  / df[i].abs().max()"
      ],
      "metadata": {
        "id": "FQqGMC13Z-c7"
      },
      "execution_count": null,
      "outputs": []
    },
    {
      "cell_type": "code",
      "source": [
        "df.head()"
      ],
      "metadata": {
        "id": "CeX1h9D5Z-mD",
        "colab": {
          "base_uri": "https://localhost:8080/",
          "height": 206
        },
        "outputId": "7ca52360-b213-4ba6-aca6-f242bed99523"
      },
      "execution_count": null,
      "outputs": [
        {
          "output_type": "execute_result",
          "data": {
            "text/plain": [
              "   Alcholol  Malic acid       Ash  Alcanity  Magnesium  Total Phenol  \\\n",
              "0  0.959541    0.294828  0.752322  0.520000   0.783951      0.721649   \n",
              "1  0.890088    0.306897  0.662539  0.373333   0.617284      0.682990   \n",
              "2  0.887390    0.406897  0.826625  0.620000   0.623457      0.721649   \n",
              "3  0.968982    0.336207  0.773994  0.560000   0.697531      0.992268   \n",
              "4  0.892785    0.446552  0.888545  0.700000   0.728395      0.721649   \n",
              "\n",
              "   Flavanoids  N Phenols  Proanthocyanins  Color Intensity       Hue  \\\n",
              "0    0.602362   0.424242         0.639665         0.433846  0.608187   \n",
              "1    0.543307   0.393939         0.357542         0.336923  0.614035   \n",
              "2    0.637795   0.454545         0.784916         0.436923  0.602339   \n",
              "3    0.687008   0.363636         0.608939         0.600000  0.502924   \n",
              "4    0.529528   0.590909         0.508380         0.332308  0.608187   \n",
              "\n",
              "   OD280/OD315   Proline  Class  \n",
              "0       0.9800  0.633929      1  \n",
              "1       0.8500  0.625000      1  \n",
              "2       0.7925  0.705357      1  \n",
              "3       0.8625  0.880952      1  \n",
              "4       0.7325  0.437500      1  "
            ],
            "text/html": [
              "\n",
              "  <div id=\"df-27272b71-a88c-4327-b438-f25f66125d46\">\n",
              "    <div class=\"colab-df-container\">\n",
              "      <div>\n",
              "<style scoped>\n",
              "    .dataframe tbody tr th:only-of-type {\n",
              "        vertical-align: middle;\n",
              "    }\n",
              "\n",
              "    .dataframe tbody tr th {\n",
              "        vertical-align: top;\n",
              "    }\n",
              "\n",
              "    .dataframe thead th {\n",
              "        text-align: right;\n",
              "    }\n",
              "</style>\n",
              "<table border=\"1\" class=\"dataframe\">\n",
              "  <thead>\n",
              "    <tr style=\"text-align: right;\">\n",
              "      <th></th>\n",
              "      <th>Alcholol</th>\n",
              "      <th>Malic acid</th>\n",
              "      <th>Ash</th>\n",
              "      <th>Alcanity</th>\n",
              "      <th>Magnesium</th>\n",
              "      <th>Total Phenol</th>\n",
              "      <th>Flavanoids</th>\n",
              "      <th>N Phenols</th>\n",
              "      <th>Proanthocyanins</th>\n",
              "      <th>Color Intensity</th>\n",
              "      <th>Hue</th>\n",
              "      <th>OD280/OD315</th>\n",
              "      <th>Proline</th>\n",
              "      <th>Class</th>\n",
              "    </tr>\n",
              "  </thead>\n",
              "  <tbody>\n",
              "    <tr>\n",
              "      <th>0</th>\n",
              "      <td>0.959541</td>\n",
              "      <td>0.294828</td>\n",
              "      <td>0.752322</td>\n",
              "      <td>0.520000</td>\n",
              "      <td>0.783951</td>\n",
              "      <td>0.721649</td>\n",
              "      <td>0.602362</td>\n",
              "      <td>0.424242</td>\n",
              "      <td>0.639665</td>\n",
              "      <td>0.433846</td>\n",
              "      <td>0.608187</td>\n",
              "      <td>0.9800</td>\n",
              "      <td>0.633929</td>\n",
              "      <td>1</td>\n",
              "    </tr>\n",
              "    <tr>\n",
              "      <th>1</th>\n",
              "      <td>0.890088</td>\n",
              "      <td>0.306897</td>\n",
              "      <td>0.662539</td>\n",
              "      <td>0.373333</td>\n",
              "      <td>0.617284</td>\n",
              "      <td>0.682990</td>\n",
              "      <td>0.543307</td>\n",
              "      <td>0.393939</td>\n",
              "      <td>0.357542</td>\n",
              "      <td>0.336923</td>\n",
              "      <td>0.614035</td>\n",
              "      <td>0.8500</td>\n",
              "      <td>0.625000</td>\n",
              "      <td>1</td>\n",
              "    </tr>\n",
              "    <tr>\n",
              "      <th>2</th>\n",
              "      <td>0.887390</td>\n",
              "      <td>0.406897</td>\n",
              "      <td>0.826625</td>\n",
              "      <td>0.620000</td>\n",
              "      <td>0.623457</td>\n",
              "      <td>0.721649</td>\n",
              "      <td>0.637795</td>\n",
              "      <td>0.454545</td>\n",
              "      <td>0.784916</td>\n",
              "      <td>0.436923</td>\n",
              "      <td>0.602339</td>\n",
              "      <td>0.7925</td>\n",
              "      <td>0.705357</td>\n",
              "      <td>1</td>\n",
              "    </tr>\n",
              "    <tr>\n",
              "      <th>3</th>\n",
              "      <td>0.968982</td>\n",
              "      <td>0.336207</td>\n",
              "      <td>0.773994</td>\n",
              "      <td>0.560000</td>\n",
              "      <td>0.697531</td>\n",
              "      <td>0.992268</td>\n",
              "      <td>0.687008</td>\n",
              "      <td>0.363636</td>\n",
              "      <td>0.608939</td>\n",
              "      <td>0.600000</td>\n",
              "      <td>0.502924</td>\n",
              "      <td>0.8625</td>\n",
              "      <td>0.880952</td>\n",
              "      <td>1</td>\n",
              "    </tr>\n",
              "    <tr>\n",
              "      <th>4</th>\n",
              "      <td>0.892785</td>\n",
              "      <td>0.446552</td>\n",
              "      <td>0.888545</td>\n",
              "      <td>0.700000</td>\n",
              "      <td>0.728395</td>\n",
              "      <td>0.721649</td>\n",
              "      <td>0.529528</td>\n",
              "      <td>0.590909</td>\n",
              "      <td>0.508380</td>\n",
              "      <td>0.332308</td>\n",
              "      <td>0.608187</td>\n",
              "      <td>0.7325</td>\n",
              "      <td>0.437500</td>\n",
              "      <td>1</td>\n",
              "    </tr>\n",
              "  </tbody>\n",
              "</table>\n",
              "</div>\n",
              "      <button class=\"colab-df-convert\" onclick=\"convertToInteractive('df-27272b71-a88c-4327-b438-f25f66125d46')\"\n",
              "              title=\"Convert this dataframe to an interactive table.\"\n",
              "              style=\"display:none;\">\n",
              "        \n",
              "  <svg xmlns=\"http://www.w3.org/2000/svg\" height=\"24px\"viewBox=\"0 0 24 24\"\n",
              "       width=\"24px\">\n",
              "    <path d=\"M0 0h24v24H0V0z\" fill=\"none\"/>\n",
              "    <path d=\"M18.56 5.44l.94 2.06.94-2.06 2.06-.94-2.06-.94-.94-2.06-.94 2.06-2.06.94zm-11 1L8.5 8.5l.94-2.06 2.06-.94-2.06-.94L8.5 2.5l-.94 2.06-2.06.94zm10 10l.94 2.06.94-2.06 2.06-.94-2.06-.94-.94-2.06-.94 2.06-2.06.94z\"/><path d=\"M17.41 7.96l-1.37-1.37c-.4-.4-.92-.59-1.43-.59-.52 0-1.04.2-1.43.59L10.3 9.45l-7.72 7.72c-.78.78-.78 2.05 0 2.83L4 21.41c.39.39.9.59 1.41.59.51 0 1.02-.2 1.41-.59l7.78-7.78 2.81-2.81c.8-.78.8-2.07 0-2.86zM5.41 20L4 18.59l7.72-7.72 1.47 1.35L5.41 20z\"/>\n",
              "  </svg>\n",
              "      </button>\n",
              "      \n",
              "  <style>\n",
              "    .colab-df-container {\n",
              "      display:flex;\n",
              "      flex-wrap:wrap;\n",
              "      gap: 12px;\n",
              "    }\n",
              "\n",
              "    .colab-df-convert {\n",
              "      background-color: #E8F0FE;\n",
              "      border: none;\n",
              "      border-radius: 50%;\n",
              "      cursor: pointer;\n",
              "      display: none;\n",
              "      fill: #1967D2;\n",
              "      height: 32px;\n",
              "      padding: 0 0 0 0;\n",
              "      width: 32px;\n",
              "    }\n",
              "\n",
              "    .colab-df-convert:hover {\n",
              "      background-color: #E2EBFA;\n",
              "      box-shadow: 0px 1px 2px rgba(60, 64, 67, 0.3), 0px 1px 3px 1px rgba(60, 64, 67, 0.15);\n",
              "      fill: #174EA6;\n",
              "    }\n",
              "\n",
              "    [theme=dark] .colab-df-convert {\n",
              "      background-color: #3B4455;\n",
              "      fill: #D2E3FC;\n",
              "    }\n",
              "\n",
              "    [theme=dark] .colab-df-convert:hover {\n",
              "      background-color: #434B5C;\n",
              "      box-shadow: 0px 1px 3px 1px rgba(0, 0, 0, 0.15);\n",
              "      filter: drop-shadow(0px 1px 2px rgba(0, 0, 0, 0.3));\n",
              "      fill: #FFFFFF;\n",
              "    }\n",
              "  </style>\n",
              "\n",
              "      <script>\n",
              "        const buttonEl =\n",
              "          document.querySelector('#df-27272b71-a88c-4327-b438-f25f66125d46 button.colab-df-convert');\n",
              "        buttonEl.style.display =\n",
              "          google.colab.kernel.accessAllowed ? 'block' : 'none';\n",
              "\n",
              "        async function convertToInteractive(key) {\n",
              "          const element = document.querySelector('#df-27272b71-a88c-4327-b438-f25f66125d46');\n",
              "          const dataTable =\n",
              "            await google.colab.kernel.invokeFunction('convertToInteractive',\n",
              "                                                     [key], {});\n",
              "          if (!dataTable) return;\n",
              "\n",
              "          const docLinkHtml = 'Like what you see? Visit the ' +\n",
              "            '<a target=\"_blank\" href=https://colab.research.google.com/notebooks/data_table.ipynb>data table notebook</a>'\n",
              "            + ' to learn more about interactive tables.';\n",
              "          element.innerHTML = '';\n",
              "          dataTable['output_type'] = 'display_data';\n",
              "          await google.colab.output.renderOutput(dataTable, element);\n",
              "          const docLink = document.createElement('div');\n",
              "          docLink.innerHTML = docLinkHtml;\n",
              "          element.appendChild(docLink);\n",
              "        }\n",
              "      </script>\n",
              "    </div>\n",
              "  </div>\n",
              "  "
            ]
          },
          "metadata": {},
          "execution_count": 109
        }
      ]
    },
    {
      "cell_type": "code",
      "source": [
        "x = df.iloc[:,:-1]"
      ],
      "metadata": {
        "id": "JGjR2LUFZ-o0"
      },
      "execution_count": null,
      "outputs": []
    },
    {
      "cell_type": "code",
      "source": [
        "x.head()"
      ],
      "metadata": {
        "id": "47Ib-Tj8Z-rS",
        "colab": {
          "base_uri": "https://localhost:8080/",
          "height": 206
        },
        "outputId": "c62c22b3-af64-432d-849e-a496b12e641b"
      },
      "execution_count": null,
      "outputs": [
        {
          "output_type": "execute_result",
          "data": {
            "text/plain": [
              "   Alcholol  Malic acid       Ash  Alcanity  Magnesium  Total Phenol  \\\n",
              "0  0.959541    0.294828  0.752322  0.520000   0.783951      0.721649   \n",
              "1  0.890088    0.306897  0.662539  0.373333   0.617284      0.682990   \n",
              "2  0.887390    0.406897  0.826625  0.620000   0.623457      0.721649   \n",
              "3  0.968982    0.336207  0.773994  0.560000   0.697531      0.992268   \n",
              "4  0.892785    0.446552  0.888545  0.700000   0.728395      0.721649   \n",
              "\n",
              "   Flavanoids  N Phenols  Proanthocyanins  Color Intensity       Hue  \\\n",
              "0    0.602362   0.424242         0.639665         0.433846  0.608187   \n",
              "1    0.543307   0.393939         0.357542         0.336923  0.614035   \n",
              "2    0.637795   0.454545         0.784916         0.436923  0.602339   \n",
              "3    0.687008   0.363636         0.608939         0.600000  0.502924   \n",
              "4    0.529528   0.590909         0.508380         0.332308  0.608187   \n",
              "\n",
              "   OD280/OD315   Proline  \n",
              "0       0.9800  0.633929  \n",
              "1       0.8500  0.625000  \n",
              "2       0.7925  0.705357  \n",
              "3       0.8625  0.880952  \n",
              "4       0.7325  0.437500  "
            ],
            "text/html": [
              "\n",
              "  <div id=\"df-58d96564-20a2-4ccd-a64b-c0f39eddde23\">\n",
              "    <div class=\"colab-df-container\">\n",
              "      <div>\n",
              "<style scoped>\n",
              "    .dataframe tbody tr th:only-of-type {\n",
              "        vertical-align: middle;\n",
              "    }\n",
              "\n",
              "    .dataframe tbody tr th {\n",
              "        vertical-align: top;\n",
              "    }\n",
              "\n",
              "    .dataframe thead th {\n",
              "        text-align: right;\n",
              "    }\n",
              "</style>\n",
              "<table border=\"1\" class=\"dataframe\">\n",
              "  <thead>\n",
              "    <tr style=\"text-align: right;\">\n",
              "      <th></th>\n",
              "      <th>Alcholol</th>\n",
              "      <th>Malic acid</th>\n",
              "      <th>Ash</th>\n",
              "      <th>Alcanity</th>\n",
              "      <th>Magnesium</th>\n",
              "      <th>Total Phenol</th>\n",
              "      <th>Flavanoids</th>\n",
              "      <th>N Phenols</th>\n",
              "      <th>Proanthocyanins</th>\n",
              "      <th>Color Intensity</th>\n",
              "      <th>Hue</th>\n",
              "      <th>OD280/OD315</th>\n",
              "      <th>Proline</th>\n",
              "    </tr>\n",
              "  </thead>\n",
              "  <tbody>\n",
              "    <tr>\n",
              "      <th>0</th>\n",
              "      <td>0.959541</td>\n",
              "      <td>0.294828</td>\n",
              "      <td>0.752322</td>\n",
              "      <td>0.520000</td>\n",
              "      <td>0.783951</td>\n",
              "      <td>0.721649</td>\n",
              "      <td>0.602362</td>\n",
              "      <td>0.424242</td>\n",
              "      <td>0.639665</td>\n",
              "      <td>0.433846</td>\n",
              "      <td>0.608187</td>\n",
              "      <td>0.9800</td>\n",
              "      <td>0.633929</td>\n",
              "    </tr>\n",
              "    <tr>\n",
              "      <th>1</th>\n",
              "      <td>0.890088</td>\n",
              "      <td>0.306897</td>\n",
              "      <td>0.662539</td>\n",
              "      <td>0.373333</td>\n",
              "      <td>0.617284</td>\n",
              "      <td>0.682990</td>\n",
              "      <td>0.543307</td>\n",
              "      <td>0.393939</td>\n",
              "      <td>0.357542</td>\n",
              "      <td>0.336923</td>\n",
              "      <td>0.614035</td>\n",
              "      <td>0.8500</td>\n",
              "      <td>0.625000</td>\n",
              "    </tr>\n",
              "    <tr>\n",
              "      <th>2</th>\n",
              "      <td>0.887390</td>\n",
              "      <td>0.406897</td>\n",
              "      <td>0.826625</td>\n",
              "      <td>0.620000</td>\n",
              "      <td>0.623457</td>\n",
              "      <td>0.721649</td>\n",
              "      <td>0.637795</td>\n",
              "      <td>0.454545</td>\n",
              "      <td>0.784916</td>\n",
              "      <td>0.436923</td>\n",
              "      <td>0.602339</td>\n",
              "      <td>0.7925</td>\n",
              "      <td>0.705357</td>\n",
              "    </tr>\n",
              "    <tr>\n",
              "      <th>3</th>\n",
              "      <td>0.968982</td>\n",
              "      <td>0.336207</td>\n",
              "      <td>0.773994</td>\n",
              "      <td>0.560000</td>\n",
              "      <td>0.697531</td>\n",
              "      <td>0.992268</td>\n",
              "      <td>0.687008</td>\n",
              "      <td>0.363636</td>\n",
              "      <td>0.608939</td>\n",
              "      <td>0.600000</td>\n",
              "      <td>0.502924</td>\n",
              "      <td>0.8625</td>\n",
              "      <td>0.880952</td>\n",
              "    </tr>\n",
              "    <tr>\n",
              "      <th>4</th>\n",
              "      <td>0.892785</td>\n",
              "      <td>0.446552</td>\n",
              "      <td>0.888545</td>\n",
              "      <td>0.700000</td>\n",
              "      <td>0.728395</td>\n",
              "      <td>0.721649</td>\n",
              "      <td>0.529528</td>\n",
              "      <td>0.590909</td>\n",
              "      <td>0.508380</td>\n",
              "      <td>0.332308</td>\n",
              "      <td>0.608187</td>\n",
              "      <td>0.7325</td>\n",
              "      <td>0.437500</td>\n",
              "    </tr>\n",
              "  </tbody>\n",
              "</table>\n",
              "</div>\n",
              "      <button class=\"colab-df-convert\" onclick=\"convertToInteractive('df-58d96564-20a2-4ccd-a64b-c0f39eddde23')\"\n",
              "              title=\"Convert this dataframe to an interactive table.\"\n",
              "              style=\"display:none;\">\n",
              "        \n",
              "  <svg xmlns=\"http://www.w3.org/2000/svg\" height=\"24px\"viewBox=\"0 0 24 24\"\n",
              "       width=\"24px\">\n",
              "    <path d=\"M0 0h24v24H0V0z\" fill=\"none\"/>\n",
              "    <path d=\"M18.56 5.44l.94 2.06.94-2.06 2.06-.94-2.06-.94-.94-2.06-.94 2.06-2.06.94zm-11 1L8.5 8.5l.94-2.06 2.06-.94-2.06-.94L8.5 2.5l-.94 2.06-2.06.94zm10 10l.94 2.06.94-2.06 2.06-.94-2.06-.94-.94-2.06-.94 2.06-2.06.94z\"/><path d=\"M17.41 7.96l-1.37-1.37c-.4-.4-.92-.59-1.43-.59-.52 0-1.04.2-1.43.59L10.3 9.45l-7.72 7.72c-.78.78-.78 2.05 0 2.83L4 21.41c.39.39.9.59 1.41.59.51 0 1.02-.2 1.41-.59l7.78-7.78 2.81-2.81c.8-.78.8-2.07 0-2.86zM5.41 20L4 18.59l7.72-7.72 1.47 1.35L5.41 20z\"/>\n",
              "  </svg>\n",
              "      </button>\n",
              "      \n",
              "  <style>\n",
              "    .colab-df-container {\n",
              "      display:flex;\n",
              "      flex-wrap:wrap;\n",
              "      gap: 12px;\n",
              "    }\n",
              "\n",
              "    .colab-df-convert {\n",
              "      background-color: #E8F0FE;\n",
              "      border: none;\n",
              "      border-radius: 50%;\n",
              "      cursor: pointer;\n",
              "      display: none;\n",
              "      fill: #1967D2;\n",
              "      height: 32px;\n",
              "      padding: 0 0 0 0;\n",
              "      width: 32px;\n",
              "    }\n",
              "\n",
              "    .colab-df-convert:hover {\n",
              "      background-color: #E2EBFA;\n",
              "      box-shadow: 0px 1px 2px rgba(60, 64, 67, 0.3), 0px 1px 3px 1px rgba(60, 64, 67, 0.15);\n",
              "      fill: #174EA6;\n",
              "    }\n",
              "\n",
              "    [theme=dark] .colab-df-convert {\n",
              "      background-color: #3B4455;\n",
              "      fill: #D2E3FC;\n",
              "    }\n",
              "\n",
              "    [theme=dark] .colab-df-convert:hover {\n",
              "      background-color: #434B5C;\n",
              "      box-shadow: 0px 1px 3px 1px rgba(0, 0, 0, 0.15);\n",
              "      filter: drop-shadow(0px 1px 2px rgba(0, 0, 0, 0.3));\n",
              "      fill: #FFFFFF;\n",
              "    }\n",
              "  </style>\n",
              "\n",
              "      <script>\n",
              "        const buttonEl =\n",
              "          document.querySelector('#df-58d96564-20a2-4ccd-a64b-c0f39eddde23 button.colab-df-convert');\n",
              "        buttonEl.style.display =\n",
              "          google.colab.kernel.accessAllowed ? 'block' : 'none';\n",
              "\n",
              "        async function convertToInteractive(key) {\n",
              "          const element = document.querySelector('#df-58d96564-20a2-4ccd-a64b-c0f39eddde23');\n",
              "          const dataTable =\n",
              "            await google.colab.kernel.invokeFunction('convertToInteractive',\n",
              "                                                     [key], {});\n",
              "          if (!dataTable) return;\n",
              "\n",
              "          const docLinkHtml = 'Like what you see? Visit the ' +\n",
              "            '<a target=\"_blank\" href=https://colab.research.google.com/notebooks/data_table.ipynb>data table notebook</a>'\n",
              "            + ' to learn more about interactive tables.';\n",
              "          element.innerHTML = '';\n",
              "          dataTable['output_type'] = 'display_data';\n",
              "          await google.colab.output.renderOutput(dataTable, element);\n",
              "          const docLink = document.createElement('div');\n",
              "          docLink.innerHTML = docLinkHtml;\n",
              "          element.appendChild(docLink);\n",
              "        }\n",
              "      </script>\n",
              "    </div>\n",
              "  </div>\n",
              "  "
            ]
          },
          "metadata": {},
          "execution_count": 111
        }
      ]
    },
    {
      "cell_type": "code",
      "source": [
        "y = df.iloc[:,-1:]"
      ],
      "metadata": {
        "id": "VHCURsBBZ-t-"
      },
      "execution_count": null,
      "outputs": []
    },
    {
      "cell_type": "code",
      "source": [
        "y.head()"
      ],
      "metadata": {
        "id": "74NyXA0mZ-wT",
        "colab": {
          "base_uri": "https://localhost:8080/",
          "height": 206
        },
        "outputId": "7a6c39b7-1475-4b58-a549-d589a9c832e7"
      },
      "execution_count": null,
      "outputs": [
        {
          "output_type": "execute_result",
          "data": {
            "text/plain": [
              "   Class\n",
              "0      1\n",
              "1      1\n",
              "2      1\n",
              "3      1\n",
              "4      1"
            ],
            "text/html": [
              "\n",
              "  <div id=\"df-425f42fd-f980-46b0-8ab8-3e08b913ccb2\">\n",
              "    <div class=\"colab-df-container\">\n",
              "      <div>\n",
              "<style scoped>\n",
              "    .dataframe tbody tr th:only-of-type {\n",
              "        vertical-align: middle;\n",
              "    }\n",
              "\n",
              "    .dataframe tbody tr th {\n",
              "        vertical-align: top;\n",
              "    }\n",
              "\n",
              "    .dataframe thead th {\n",
              "        text-align: right;\n",
              "    }\n",
              "</style>\n",
              "<table border=\"1\" class=\"dataframe\">\n",
              "  <thead>\n",
              "    <tr style=\"text-align: right;\">\n",
              "      <th></th>\n",
              "      <th>Class</th>\n",
              "    </tr>\n",
              "  </thead>\n",
              "  <tbody>\n",
              "    <tr>\n",
              "      <th>0</th>\n",
              "      <td>1</td>\n",
              "    </tr>\n",
              "    <tr>\n",
              "      <th>1</th>\n",
              "      <td>1</td>\n",
              "    </tr>\n",
              "    <tr>\n",
              "      <th>2</th>\n",
              "      <td>1</td>\n",
              "    </tr>\n",
              "    <tr>\n",
              "      <th>3</th>\n",
              "      <td>1</td>\n",
              "    </tr>\n",
              "    <tr>\n",
              "      <th>4</th>\n",
              "      <td>1</td>\n",
              "    </tr>\n",
              "  </tbody>\n",
              "</table>\n",
              "</div>\n",
              "      <button class=\"colab-df-convert\" onclick=\"convertToInteractive('df-425f42fd-f980-46b0-8ab8-3e08b913ccb2')\"\n",
              "              title=\"Convert this dataframe to an interactive table.\"\n",
              "              style=\"display:none;\">\n",
              "        \n",
              "  <svg xmlns=\"http://www.w3.org/2000/svg\" height=\"24px\"viewBox=\"0 0 24 24\"\n",
              "       width=\"24px\">\n",
              "    <path d=\"M0 0h24v24H0V0z\" fill=\"none\"/>\n",
              "    <path d=\"M18.56 5.44l.94 2.06.94-2.06 2.06-.94-2.06-.94-.94-2.06-.94 2.06-2.06.94zm-11 1L8.5 8.5l.94-2.06 2.06-.94-2.06-.94L8.5 2.5l-.94 2.06-2.06.94zm10 10l.94 2.06.94-2.06 2.06-.94-2.06-.94-.94-2.06-.94 2.06-2.06.94z\"/><path d=\"M17.41 7.96l-1.37-1.37c-.4-.4-.92-.59-1.43-.59-.52 0-1.04.2-1.43.59L10.3 9.45l-7.72 7.72c-.78.78-.78 2.05 0 2.83L4 21.41c.39.39.9.59 1.41.59.51 0 1.02-.2 1.41-.59l7.78-7.78 2.81-2.81c.8-.78.8-2.07 0-2.86zM5.41 20L4 18.59l7.72-7.72 1.47 1.35L5.41 20z\"/>\n",
              "  </svg>\n",
              "      </button>\n",
              "      \n",
              "  <style>\n",
              "    .colab-df-container {\n",
              "      display:flex;\n",
              "      flex-wrap:wrap;\n",
              "      gap: 12px;\n",
              "    }\n",
              "\n",
              "    .colab-df-convert {\n",
              "      background-color: #E8F0FE;\n",
              "      border: none;\n",
              "      border-radius: 50%;\n",
              "      cursor: pointer;\n",
              "      display: none;\n",
              "      fill: #1967D2;\n",
              "      height: 32px;\n",
              "      padding: 0 0 0 0;\n",
              "      width: 32px;\n",
              "    }\n",
              "\n",
              "    .colab-df-convert:hover {\n",
              "      background-color: #E2EBFA;\n",
              "      box-shadow: 0px 1px 2px rgba(60, 64, 67, 0.3), 0px 1px 3px 1px rgba(60, 64, 67, 0.15);\n",
              "      fill: #174EA6;\n",
              "    }\n",
              "\n",
              "    [theme=dark] .colab-df-convert {\n",
              "      background-color: #3B4455;\n",
              "      fill: #D2E3FC;\n",
              "    }\n",
              "\n",
              "    [theme=dark] .colab-df-convert:hover {\n",
              "      background-color: #434B5C;\n",
              "      box-shadow: 0px 1px 3px 1px rgba(0, 0, 0, 0.15);\n",
              "      filter: drop-shadow(0px 1px 2px rgba(0, 0, 0, 0.3));\n",
              "      fill: #FFFFFF;\n",
              "    }\n",
              "  </style>\n",
              "\n",
              "      <script>\n",
              "        const buttonEl =\n",
              "          document.querySelector('#df-425f42fd-f980-46b0-8ab8-3e08b913ccb2 button.colab-df-convert');\n",
              "        buttonEl.style.display =\n",
              "          google.colab.kernel.accessAllowed ? 'block' : 'none';\n",
              "\n",
              "        async function convertToInteractive(key) {\n",
              "          const element = document.querySelector('#df-425f42fd-f980-46b0-8ab8-3e08b913ccb2');\n",
              "          const dataTable =\n",
              "            await google.colab.kernel.invokeFunction('convertToInteractive',\n",
              "                                                     [key], {});\n",
              "          if (!dataTable) return;\n",
              "\n",
              "          const docLinkHtml = 'Like what you see? Visit the ' +\n",
              "            '<a target=\"_blank\" href=https://colab.research.google.com/notebooks/data_table.ipynb>data table notebook</a>'\n",
              "            + ' to learn more about interactive tables.';\n",
              "          element.innerHTML = '';\n",
              "          dataTable['output_type'] = 'display_data';\n",
              "          await google.colab.output.renderOutput(dataTable, element);\n",
              "          const docLink = document.createElement('div');\n",
              "          docLink.innerHTML = docLinkHtml;\n",
              "          element.appendChild(docLink);\n",
              "        }\n",
              "      </script>\n",
              "    </div>\n",
              "  </div>\n",
              "  "
            ]
          },
          "metadata": {},
          "execution_count": 113
        }
      ]
    },
    {
      "cell_type": "markdown",
      "source": [
        "**Testing and Training the dataset by spliting it into different random states of X and Y**"
      ],
      "metadata": {
        "id": "lMS16VNPgddt"
      }
    },
    {
      "cell_type": "code",
      "source": [
        "X_train, X_test, y_train, y_test = train_test_split(x, y, test_size=0.33, random_state=23)"
      ],
      "metadata": {
        "id": "c2I6pFM2feiJ"
      },
      "execution_count": null,
      "outputs": []
    },
    {
      "cell_type": "markdown",
      "source": [
        "## **APPLYING MLP TO THE DATASET**"
      ],
      "metadata": {
        "id": "RZKmRXdtfNAA"
      }
    },
    {
      "cell_type": "code",
      "source": [
        "from sklearn.neural_network import MLPClassifier\n",
        "clf = MLPClassifier(hidden_layer_sizes=(11,9,7), random_state = 1)\n",
        "\n",
        "clf.fit(X_train, y_train)\n",
        "clf.score(X_test, y_test)"
      ],
      "metadata": {
        "colab": {
          "base_uri": "https://localhost:8080/"
        },
        "id": "4rDotbUMeGTp",
        "outputId": "8b9f0533-3254-480c-a796-933e7819a234"
      },
      "execution_count": null,
      "outputs": [
        {
          "output_type": "execute_result",
          "data": {
            "text/plain": [
              "0.9322033898305084"
            ]
          },
          "metadata": {},
          "execution_count": 115
        }
      ]
    },
    {
      "cell_type": "code",
      "source": [
        "clf.score(X_test, y_test)"
      ],
      "metadata": {
        "colab": {
          "base_uri": "https://localhost:8080/"
        },
        "id": "AevkZR_KeGe_",
        "outputId": "54d5d8ea-3a25-4665-8986-672f4a8022bb"
      },
      "execution_count": null,
      "outputs": [
        {
          "output_type": "execute_result",
          "data": {
            "text/plain": [
              "0.9322033898305084"
            ]
          },
          "metadata": {},
          "execution_count": 116
        }
      ]
    },
    {
      "cell_type": "code",
      "source": [
        "classes = df[\"Class\"].unique()\n",
        "for i in classes:\n",
        "  classData = df.query(\"Class==@i\")\n",
        "  x = classData.iloc[:,:-1]\n",
        "  temp = classData.iloc[:,-1:]\n",
        "  predicted = list(clf.predict(x.iloc[0:, : ]))\n",
        "  y = []\n",
        "  for j in temp.values:\n",
        "    y.append(j[0])\n",
        "  total = len(y)\n",
        "  \n",
        "  correct = 0\n",
        "  for j in range(total):\n",
        "    if(y[j] == predicted[j]):\n",
        "      correct += 1\n",
        "  accuracy = correct/total * 100\n",
        "  print(\"Accuracy for the class {0} = {1}\".format(i, accuracy ))"
      ],
      "metadata": {
        "colab": {
          "base_uri": "https://localhost:8080/"
        },
        "id": "jP0Y52Q2oxaR",
        "outputId": "455028fc-eef3-4533-bfec-1faa65ce2d07"
      },
      "execution_count": null,
      "outputs": [
        {
          "output_type": "stream",
          "name": "stdout",
          "text": [
            "Accuracy for the class 1 = 98.30508474576271\n",
            "Accuracy for the class 2 = 81.69014084507043\n",
            "Accuracy for the class 3 = 97.91666666666666\n"
          ]
        }
      ]
    },
    {
      "cell_type": "code",
      "source": [
        "classData = df.query(\"Class==1\")\n",
        "x = classData.iloc[:,:-1]\n",
        "y = classData.iloc[:,-1:]\n",
        "predicted = []"
      ],
      "metadata": {
        "id": "3l4ep05opEju"
      },
      "execution_count": null,
      "outputs": []
    },
    {
      "cell_type": "code",
      "source": [
        "clf.predict(df.iloc[62:63, : -1])"
      ],
      "metadata": {
        "colab": {
          "base_uri": "https://localhost:8080/"
        },
        "id": "u_YV4Biyo2Cj",
        "outputId": "754526b7-8601-42fd-a814-cb34e2bea290"
      },
      "execution_count": null,
      "outputs": [
        {
          "output_type": "execute_result",
          "data": {
            "text/plain": [
              "array([2])"
            ]
          },
          "metadata": {},
          "execution_count": 119
        }
      ]
    },
    {
      "cell_type": "markdown",
      "source": [
        "# **LOGISTIC REGRESSION**"
      ],
      "metadata": {
        "id": "KcBkgaN2i5Fa"
      }
    },
    {
      "cell_type": "code",
      "source": [
        "from sklearn import linear_model\n",
        "model = linear_model.LogisticRegression()\n",
        "\n",
        "model.fit(X_train, y_train)\n",
        "model.score(X_test, y_test)"
      ],
      "metadata": {
        "colab": {
          "base_uri": "https://localhost:8080/"
        },
        "id": "VaB4YA-ogKDx",
        "outputId": "5904bc4b-89e7-41a7-d816-ad670c0e830a"
      },
      "execution_count": null,
      "outputs": [
        {
          "output_type": "execute_result",
          "data": {
            "text/plain": [
              "0.9830508474576272"
            ]
          },
          "metadata": {},
          "execution_count": 120
        }
      ]
    },
    {
      "cell_type": "code",
      "source": [
        "classes = df[\"Class\"].unique()\n",
        "for i in classes:\n",
        "  classData = df.query(\"Class==@i\")\n",
        "  x = classData.iloc[:,:-1]\n",
        "  temp = classData.iloc[:,-1:]\n",
        "  predicted = list(logr.predict(x.iloc[0:, : ]))\n",
        "  y = []\n",
        "  for j in temp.values:\n",
        "    y.append(j[0])\n",
        "  total = len(y)\n",
        "  \n",
        "  correct = 0\n",
        "  for j in range(total):\n",
        "    if(y[j] == predicted[j]):\n",
        "      correct += 1\n",
        "  accuracy = correct/total * 100\n",
        "  print(\"Accuracy for the class {0} = {1}\".format(i, accuracy ))\n"
      ],
      "metadata": {
        "colab": {
          "base_uri": "https://localhost:8080/"
        },
        "id": "Rk5OP7CigKRg",
        "outputId": "3affe412-784e-4eef-9e98-6e1ac321680c"
      },
      "execution_count": null,
      "outputs": [
        {
          "output_type": "stream",
          "name": "stdout",
          "text": [
            "Accuracy for the class 1 = 1.694915254237288\n",
            "Accuracy for the class 2 = 98.59154929577466\n",
            "Accuracy for the class 3 = 2.083333333333333\n"
          ]
        }
      ]
    },
    {
      "cell_type": "code",
      "source": [
        "plt.scatter(df[\"Alcanity\"], df[\"Class\"])"
      ],
      "metadata": {
        "colab": {
          "base_uri": "https://localhost:8080/",
          "height": 282
        },
        "id": "OIC_nuR3eGj_",
        "outputId": "c1614a21-1a0c-45f7-f6d9-f1763842f25f"
      },
      "execution_count": null,
      "outputs": [
        {
          "output_type": "execute_result",
          "data": {
            "text/plain": [
              "<matplotlib.collections.PathCollection at 0x7fa61065ef90>"
            ]
          },
          "metadata": {},
          "execution_count": 122
        },
        {
          "output_type": "display_data",
          "data": {
            "text/plain": [
              "<Figure size 432x288 with 1 Axes>"
            ],
            "image/png": "[encoded data removed]"
          },
          "metadata": {
            "needs_background": "light"
          }
        }
      ]
    },
    {
      "cell_type": "code",
      "source": [
        "plt.scatter(df[\"Color Intensity\"], df[\"Class\"])"
      ],
      "metadata": {
        "colab": {
          "base_uri": "https://localhost:8080/",
          "height": 282
        },
        "id": "ftt71MNceGmm",
        "outputId": "30be2eac-41ef-43cb-abab-733acaadbad7"
      },
      "execution_count": null,
      "outputs": [
        {
          "output_type": "execute_result",
          "data": {
            "text/plain": [
              "<matplotlib.collections.PathCollection at 0x7fa610118ed0>"
            ]
          },
          "metadata": {},
          "execution_count": 125
        },
        {
          "output_type": "display_data",
          "data": {
            "text/plain": [
              "<Figure size 432x288 with 1 Axes>"
            ],
            "image/png": "[encoded data removed]"
          },
          "metadata": {
            "needs_background": "light"
          }
        }
      ]
    },
    {
      "cell_type": "markdown",
      "source": [
        "# EVALUATION MEASURES"
      ],
      "metadata": {
        "id": "hoIBQfJewCYB"
      }
    },
    {
      "cell_type": "code",
      "source": [
        "clf.score(X_test, y_test) #accruacy of MLP"
      ],
      "metadata": {
        "id": "sNieHYnMZ-y6",
        "colab": {
          "base_uri": "https://localhost:8080/"
        },
        "outputId": "49f0ea2d-0057-47ad-9b86-e900f32e46ef"
      },
      "execution_count": null,
      "outputs": [
        {
          "output_type": "execute_result",
          "data": {
            "text/plain": [
              "0.9322033898305084"
            ]
          },
          "metadata": {},
          "execution_count": 126
        }
      ]
    },
    {
      "cell_type": "code",
      "source": [
        "model.score(X_test, y_test) #accuracy of Logistic Regression"
      ],
      "metadata": {
        "colab": {
          "base_uri": "https://localhost:8080/"
        },
        "id": "FBwcuYsHeGtR",
        "outputId": "8c19b752-498b-4ea7-e482-949f8d94766f"
      },
      "execution_count": null,
      "outputs": [
        {
          "output_type": "execute_result",
          "data": {
            "text/plain": [
              "0.9830508474576272"
            ]
          },
          "metadata": {},
          "execution_count": 127
        }
      ]
    },
    {
      "cell_type": "code",
      "source": [
        "kfold = model_selection.KFold(n_splits=10, random_state=7, shuffle=True)"
      ],
      "metadata": {
        "id": "ypar6n6-xKT5"
      },
      "execution_count": null,
      "outputs": []
    },
    {
      "cell_type": "markdown",
      "source": [
        "# LOG LOSS #it shows that how accuare prediction can be corresponding to its actual value"
      ],
      "metadata": {
        "id": "DItme9jgwwfq"
      }
    },
    {
      "cell_type": "code",
      "source": [
        "scoring = 'neg_log_loss'\n",
        "results = model_selection.cross_val_score(clf, X_train, y_train, cv=kfold, scoring=scoring)\n",
        "print(\"Logloss: %.3f (%.3f)\" % (results.mean(), results.std()))                               #LogLoss of   MLP"
      ],
      "metadata": {
        "colab": {
          "base_uri": "https://localhost:8080/"
        },
        "id": "58O4p-MFw-xI",
        "outputId": "6b5bdf85-f897-4d74-f9d4-b35464c28bc8"
      },
      "execution_count": null,
      "outputs": [
        {
          "output_type": "stream",
          "name": "stdout",
          "text": [
            "Logloss: -0.521 (0.079)\n"
          ]
        }
      ]
    },
    {
      "cell_type": "code",
      "source": [
        "scoring = 'neg_log_loss'\n",
        "results = model_selection.cross_val_score(model, X_train, y_train, cv=kfold, scoring=scoring)\n",
        "print(\"Logloss: %.3f (%.3f)\" % (results.mean(), results.std()))                                 #LogLoss of  Logistic Regression"
      ],
      "metadata": {
        "colab": {
          "base_uri": "https://localhost:8080/"
        },
        "id": "2QN93kiExFY7",
        "outputId": "e944265f-174a-40c5-9033-1eaa1a30a8dc"
      },
      "execution_count": null,
      "outputs": [
        {
          "output_type": "stream",
          "name": "stdout",
          "text": [
            "Logloss: -0.367 (0.058)\n"
          ]
        }
      ]
    },
    {
      "cell_type": "markdown",
      "source": [
        "# CONFUSION MATRIX"
      ],
      "metadata": {
        "id": "ozBWqJAvxpGk"
      }
    },
    {
      "cell_type": "code",
      "source": [
        "y = y_test\n",
        "predicted = clf.predict(X_test)\n",
        "matrix = confusion_matrix(y, predicted)\n",
        "print(matrix)                                 #CONFUSION MATRIX OF MLP"
      ],
      "metadata": {
        "colab": {
          "base_uri": "https://localhost:8080/"
        },
        "id": "4IaL9pcUx1aJ",
        "outputId": "3eeae61c-88bc-4c66-cad1-86c67258de61"
      },
      "execution_count": null,
      "outputs": [
        {
          "output_type": "stream",
          "name": "stdout",
          "text": [
            "[[18  0  0]\n",
            " [ 3 22  1]\n",
            " [ 0  0 15]]\n"
          ]
        }
      ]
    },
    {
      "cell_type": "code",
      "source": [
        "plot_confusion_matrix(clf, X_test, y_test)"
      ],
      "metadata": {
        "colab": {
          "base_uri": "https://localhost:8080/",
          "height": 296
        },
        "id": "Uak1PFJiywLa",
        "outputId": "bba51a28-0cee-478c-f465-bc268458b93b"
      },
      "execution_count": null,
      "outputs": [
        {
          "output_type": "execute_result",
          "data": {
            "text/plain": [
              "<sklearn.metrics._plot.confusion_matrix.ConfusionMatrixDisplay at 0x7fa61015aa50>"
            ]
          },
          "metadata": {},
          "execution_count": 144
        },
        {
          "output_type": "display_data",
          "data": {
            "text/plain": [
              "<Figure size 432x288 with 2 Axes>"
            ],
            "image/png": "[encoded data removed]"
          },
          "metadata": {
            "needs_background": "light"
          }
        }
      ]
    },
    {
      "cell_type": "code",
      "source": [
        "y = y_test\n",
        "predicted = model.predict(X_test)\n",
        "matrix = confusion_matrix(y, predicted)\n",
        "print(matrix)"
      ],
      "metadata": {
        "colab": {
          "base_uri": "https://localhost:8080/"
        },
        "id": "rONaVk0hyFJD",
        "outputId": "0c526c2b-a08d-48e2-dc3f-cb541b3e079f"
      },
      "execution_count": null,
      "outputs": [
        {
          "output_type": "stream",
          "name": "stdout",
          "text": [
            "[[18  0  0]\n",
            " [ 1 25  0]\n",
            " [ 0  0 15]]\n"
          ]
        }
      ]
    },
    {
      "cell_type": "code",
      "source": [
        "plot_confusion_matrix(model, X_test, y_test)"
      ],
      "metadata": {
        "colab": {
          "base_uri": "https://localhost:8080/",
          "height": 300
        },
        "id": "tNOcvwUAy4PJ",
        "outputId": "27a8a0c8-f84a-4dcf-eeea-f096e00809a7"
      },
      "execution_count": null,
      "outputs": [
        {
          "output_type": "execute_result",
          "data": {
            "text/plain": [
              "<sklearn.metrics._plot.confusion_matrix.ConfusionMatrixDisplay at 0x7fa60ffd7710>"
            ]
          },
          "metadata": {},
          "execution_count": 145
        },
        {
          "output_type": "display_data",
          "data": {
            "text/plain": [
              "<Figure size 432x288 with 2 Axes>"
            ],
            "image/png": "[encoded data removed]"
          },
          "metadata": {
            "needs_background": "light"
          }
        }
      ]
    },
    {
      "cell_type": "markdown",
      "source": [
        "# CLASSIFICATION REPORT"
      ],
      "metadata": {
        "id": "1vte2m_1yPwZ"
      }
    },
    {
      "cell_type": "code",
      "source": [
        "y = y_test\n",
        "predicted = clf.predict(X_test)\n",
        "report = classification_report(y, predicted)\n",
        "print(report)                                   #of MLP"
      ],
      "metadata": {
        "colab": {
          "base_uri": "https://localhost:8080/"
        },
        "id": "76EcnSJFyU7N",
        "outputId": "c1200a54-af73-483c-988d-4f600231a114"
      },
      "execution_count": null,
      "outputs": [
        {
          "output_type": "stream",
          "name": "stdout",
          "text": [
            "              precision    recall  f1-score   support\n",
            "\n",
            "           1       0.86      1.00      0.92        18\n",
            "           2       1.00      0.85      0.92        26\n",
            "           3       0.94      1.00      0.97        15\n",
            "\n",
            "    accuracy                           0.93        59\n",
            "   macro avg       0.93      0.95      0.94        59\n",
            "weighted avg       0.94      0.93      0.93        59\n",
            "\n"
          ]
        }
      ]
    },
    {
      "cell_type": "code",
      "source": [
        "y = y_test\n",
        "predicted = model.predict(X_test)\n",
        "report = classification_report(y, predicted)\n",
        "print(report)                                      #OF LOGISTIC REGRESSION"
      ],
      "metadata": {
        "colab": {
          "base_uri": "https://localhost:8080/"
        },
        "id": "vcpP1_wEyVDj",
        "outputId": "9b7695d0-c0d7-4547-b9cd-0d6d4c7a6bed"
      },
      "execution_count": null,
      "outputs": [
        {
          "output_type": "stream",
          "name": "stdout",
          "text": [
            "              precision    recall  f1-score   support\n",
            "\n",
            "           1       0.95      1.00      0.97        18\n",
            "           2       1.00      0.96      0.98        26\n",
            "           3       1.00      1.00      1.00        15\n",
            "\n",
            "    accuracy                           0.98        59\n",
            "   macro avg       0.98      0.99      0.98        59\n",
            "weighted avg       0.98      0.98      0.98        59\n",
            "\n"
          ]
        }
      ]
    },
    {
      "cell_type": "markdown",
      "source": [
        "FOR MLP :- A MLP Classifier was trained with 13 input neurons, 3 output neurons and 3 hidden layers with 11, 9, 7 neurons respectively. It was found that the overall accuracy of the model was 93% and accuracy for each data class was as shown in the above cell. Class 2 was identified with the lowest accuracy of 81% while Class 1 was identified with highest accuracy of 98%"
      ],
      "metadata": {
        "id": "grWxR7Siu56i"
      }
    },
    {
      "cell_type": "markdown",
      "source": [
        "For Logistic Regression :- Logistic regression model was trained and the accuracy was found to be 98% and the Class 3 is overfitted since it is giving the 100% accuracy."
      ],
      "metadata": {
        "id": "2vTJ9LSovHuY"
      }
    }
  ]
}